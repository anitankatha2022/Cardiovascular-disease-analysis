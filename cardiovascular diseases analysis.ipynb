{
 "cells": [
  {
   "cell_type": "markdown",
   "id": "3c0c055a",
   "metadata": {},
   "source": [
    "# Import modules"
   ]
  },
  {
   "cell_type": "code",
   "execution_count": null,
   "id": "55a2f278",
   "metadata": {},
   "outputs": [],
   "source": [
    "import numpy as np\n",
    "import pandas as pd\n",
    "import matplotlib\n",
    "import matplotlib.pyplot as plt\n",
    "import seaborn as sns\n",
    "%matplotlib inline"
   ]
  },
  {
   "cell_type": "markdown",
   "id": "c4dc46bd",
   "metadata": {},
   "source": [
    "# Loading dataset"
   ]
  },
  {
   "cell_type": "code",
   "execution_count": 10,
   "id": "6161c5d2",
   "metadata": {},
   "outputs": [
    {
     "data": {
      "text/html": [
       "<div>\n",
       "<style scoped>\n",
       "    .dataframe tbody tr th:only-of-type {\n",
       "        vertical-align: middle;\n",
       "    }\n",
       "\n",
       "    .dataframe tbody tr th {\n",
       "        vertical-align: top;\n",
       "    }\n",
       "\n",
       "    .dataframe thead th {\n",
       "        text-align: right;\n",
       "    }\n",
       "</style>\n",
       "<table border=\"1\" class=\"dataframe\">\n",
       "  <thead>\n",
       "    <tr style=\"text-align: right;\">\n",
       "      <th></th>\n",
       "      <th>AGE</th>\n",
       "      <th>GENDER</th>\n",
       "      <th>HEIGHT</th>\n",
       "      <th>WEIGHT</th>\n",
       "      <th>AP_HIGH</th>\n",
       "      <th>AP_LOW</th>\n",
       "      <th>CHOLESTEROL</th>\n",
       "      <th>GLUCOSE</th>\n",
       "      <th>SMOKE</th>\n",
       "      <th>ALCOHOL</th>\n",
       "      <th>PHYSICAL_ACTIVITY</th>\n",
       "      <th>CARDIO_DISEASE</th>\n",
       "    </tr>\n",
       "  </thead>\n",
       "  <tbody>\n",
       "    <tr>\n",
       "      <th>0</th>\n",
       "      <td>50</td>\n",
       "      <td>2</td>\n",
       "      <td>168</td>\n",
       "      <td>62</td>\n",
       "      <td>110</td>\n",
       "      <td>80</td>\n",
       "      <td>1</td>\n",
       "      <td>1</td>\n",
       "      <td>0</td>\n",
       "      <td>0</td>\n",
       "      <td>1</td>\n",
       "      <td>0</td>\n",
       "    </tr>\n",
       "    <tr>\n",
       "      <th>1</th>\n",
       "      <td>55</td>\n",
       "      <td>1</td>\n",
       "      <td>156</td>\n",
       "      <td>85</td>\n",
       "      <td>140</td>\n",
       "      <td>90</td>\n",
       "      <td>3</td>\n",
       "      <td>1</td>\n",
       "      <td>0</td>\n",
       "      <td>0</td>\n",
       "      <td>1</td>\n",
       "      <td>1</td>\n",
       "    </tr>\n",
       "    <tr>\n",
       "      <th>2</th>\n",
       "      <td>52</td>\n",
       "      <td>1</td>\n",
       "      <td>165</td>\n",
       "      <td>64</td>\n",
       "      <td>130</td>\n",
       "      <td>70</td>\n",
       "      <td>3</td>\n",
       "      <td>1</td>\n",
       "      <td>0</td>\n",
       "      <td>0</td>\n",
       "      <td>0</td>\n",
       "      <td>1</td>\n",
       "    </tr>\n",
       "    <tr>\n",
       "      <th>3</th>\n",
       "      <td>48</td>\n",
       "      <td>2</td>\n",
       "      <td>169</td>\n",
       "      <td>82</td>\n",
       "      <td>150</td>\n",
       "      <td>100</td>\n",
       "      <td>1</td>\n",
       "      <td>1</td>\n",
       "      <td>0</td>\n",
       "      <td>0</td>\n",
       "      <td>1</td>\n",
       "      <td>1</td>\n",
       "    </tr>\n",
       "    <tr>\n",
       "      <th>4</th>\n",
       "      <td>48</td>\n",
       "      <td>1</td>\n",
       "      <td>156</td>\n",
       "      <td>56</td>\n",
       "      <td>100</td>\n",
       "      <td>60</td>\n",
       "      <td>1</td>\n",
       "      <td>1</td>\n",
       "      <td>0</td>\n",
       "      <td>0</td>\n",
       "      <td>0</td>\n",
       "      <td>0</td>\n",
       "    </tr>\n",
       "  </tbody>\n",
       "</table>\n",
       "</div>"
      ],
      "text/plain": [
       "   AGE  GENDER  HEIGHT  WEIGHT  AP_HIGH  AP_LOW  CHOLESTEROL  GLUCOSE  SMOKE  \\\n",
       "0   50       2     168      62      110      80            1        1      0   \n",
       "1   55       1     156      85      140      90            3        1      0   \n",
       "2   52       1     165      64      130      70            3        1      0   \n",
       "3   48       2     169      82      150     100            1        1      0   \n",
       "4   48       1     156      56      100      60            1        1      0   \n",
       "\n",
       "   ALCOHOL  PHYSICAL_ACTIVITY  CARDIO_DISEASE  \n",
       "0        0                  1               0  \n",
       "1        0                  1               1  \n",
       "2        0                  0               1  \n",
       "3        0                  1               1  \n",
       "4        0                  0               0  "
      ]
     },
     "execution_count": 10,
     "metadata": {},
     "output_type": "execute_result"
    }
   ],
   "source": [
    "data=pd.read_csv('C:\\\\Users\\\\USER\\\\Desktop\\\\Cardiovs\\\\cardiovascular_diseases_dv3.csv',sep=';')\n",
    "data.head(5)"
   ]
  },
  {
   "cell_type": "code",
   "execution_count": 11,
   "id": "f6effea0",
   "metadata": {},
   "outputs": [
    {
     "name": "stdout",
     "output_type": "stream",
     "text": [
      "<class 'pandas.core.frame.DataFrame'>\n",
      "RangeIndex: 68783 entries, 0 to 68782\n",
      "Data columns (total 12 columns):\n",
      " #   Column             Non-Null Count  Dtype\n",
      "---  ------             --------------  -----\n",
      " 0   AGE                68783 non-null  int64\n",
      " 1   GENDER             68783 non-null  int64\n",
      " 2   HEIGHT             68783 non-null  int64\n",
      " 3   WEIGHT             68783 non-null  int64\n",
      " 4   AP_HIGH            68783 non-null  int64\n",
      " 5   AP_LOW             68783 non-null  int64\n",
      " 6   CHOLESTEROL        68783 non-null  int64\n",
      " 7   GLUCOSE            68783 non-null  int64\n",
      " 8   SMOKE              68783 non-null  int64\n",
      " 9   ALCOHOL            68783 non-null  int64\n",
      " 10  PHYSICAL_ACTIVITY  68783 non-null  int64\n",
      " 11  CARDIO_DISEASE     68783 non-null  int64\n",
      "dtypes: int64(12)\n",
      "memory usage: 6.3 MB\n"
     ]
    }
   ],
   "source": [
    "data.info()"
   ]
  },
  {
   "cell_type": "code",
   "execution_count": 12,
   "id": "8f637b65",
   "metadata": {},
   "outputs": [
    {
     "data": {
      "text/plain": [
       "AGE                   28\n",
       "GENDER                 2\n",
       "HEIGHT               106\n",
       "WEIGHT               152\n",
       "AP_HIGH              108\n",
       "AP_LOW                84\n",
       "CHOLESTEROL            3\n",
       "GLUCOSE                3\n",
       "SMOKE                  2\n",
       "ALCOHOL                2\n",
       "PHYSICAL_ACTIVITY      2\n",
       "CARDIO_DISEASE         2\n",
       "dtype: int64"
      ]
     },
     "execution_count": 12,
     "metadata": {},
     "output_type": "execute_result"
    }
   ],
   "source": [
    "data.nunique()"
   ]
  },
  {
   "cell_type": "code",
   "execution_count": 13,
   "id": "0e77a7ae",
   "metadata": {},
   "outputs": [
    {
     "data": {
      "text/plain": [
       "2"
      ]
     },
     "execution_count": 13,
     "metadata": {},
     "output_type": "execute_result"
    }
   ],
   "source": [
    "data['CARDIO_DISEASE'].nunique()"
   ]
  },
  {
   "cell_type": "code",
   "execution_count": 14,
   "id": "3f48a728",
   "metadata": {},
   "outputs": [
    {
     "data": {
      "text/plain": [
       "(68783, 12)"
      ]
     },
     "execution_count": 14,
     "metadata": {},
     "output_type": "execute_result"
    }
   ],
   "source": [
    "data.shape"
   ]
  },
  {
   "cell_type": "code",
   "execution_count": 15,
   "id": "8973e51b",
   "metadata": {},
   "outputs": [
    {
     "data": {
      "text/html": [
       "<div>\n",
       "<style scoped>\n",
       "    .dataframe tbody tr th:only-of-type {\n",
       "        vertical-align: middle;\n",
       "    }\n",
       "\n",
       "    .dataframe tbody tr th {\n",
       "        vertical-align: top;\n",
       "    }\n",
       "\n",
       "    .dataframe thead th {\n",
       "        text-align: right;\n",
       "    }\n",
       "</style>\n",
       "<table border=\"1\" class=\"dataframe\">\n",
       "  <thead>\n",
       "    <tr style=\"text-align: right;\">\n",
       "      <th></th>\n",
       "      <th>count</th>\n",
       "      <th>mean</th>\n",
       "      <th>std</th>\n",
       "      <th>min</th>\n",
       "      <th>25%</th>\n",
       "      <th>50%</th>\n",
       "      <th>75%</th>\n",
       "      <th>max</th>\n",
       "    </tr>\n",
       "  </thead>\n",
       "  <tbody>\n",
       "    <tr>\n",
       "      <th>AGE</th>\n",
       "      <td>68783.0</td>\n",
       "      <td>53.326781</td>\n",
       "      <td>6.768163</td>\n",
       "      <td>30.0</td>\n",
       "      <td>48.0</td>\n",
       "      <td>54.0</td>\n",
       "      <td>58.0</td>\n",
       "      <td>65.0</td>\n",
       "    </tr>\n",
       "    <tr>\n",
       "      <th>GENDER</th>\n",
       "      <td>68783.0</td>\n",
       "      <td>1.348749</td>\n",
       "      <td>0.476578</td>\n",
       "      <td>1.0</td>\n",
       "      <td>1.0</td>\n",
       "      <td>1.0</td>\n",
       "      <td>2.0</td>\n",
       "      <td>2.0</td>\n",
       "    </tr>\n",
       "    <tr>\n",
       "      <th>HEIGHT</th>\n",
       "      <td>68783.0</td>\n",
       "      <td>164.361252</td>\n",
       "      <td>8.184850</td>\n",
       "      <td>55.0</td>\n",
       "      <td>159.0</td>\n",
       "      <td>165.0</td>\n",
       "      <td>170.0</td>\n",
       "      <td>250.0</td>\n",
       "    </tr>\n",
       "    <tr>\n",
       "      <th>WEIGHT</th>\n",
       "      <td>68783.0</td>\n",
       "      <td>74.121934</td>\n",
       "      <td>14.331392</td>\n",
       "      <td>11.0</td>\n",
       "      <td>65.0</td>\n",
       "      <td>72.0</td>\n",
       "      <td>82.0</td>\n",
       "      <td>200.0</td>\n",
       "    </tr>\n",
       "    <tr>\n",
       "      <th>AP_HIGH</th>\n",
       "      <td>68783.0</td>\n",
       "      <td>126.614585</td>\n",
       "      <td>16.763763</td>\n",
       "      <td>60.0</td>\n",
       "      <td>120.0</td>\n",
       "      <td>120.0</td>\n",
       "      <td>140.0</td>\n",
       "      <td>240.0</td>\n",
       "    </tr>\n",
       "    <tr>\n",
       "      <th>AP_LOW</th>\n",
       "      <td>68783.0</td>\n",
       "      <td>81.381591</td>\n",
       "      <td>9.676679</td>\n",
       "      <td>40.0</td>\n",
       "      <td>80.0</td>\n",
       "      <td>80.0</td>\n",
       "      <td>90.0</td>\n",
       "      <td>190.0</td>\n",
       "    </tr>\n",
       "    <tr>\n",
       "      <th>CHOLESTEROL</th>\n",
       "      <td>68783.0</td>\n",
       "      <td>1.364727</td>\n",
       "      <td>0.678976</td>\n",
       "      <td>1.0</td>\n",
       "      <td>1.0</td>\n",
       "      <td>1.0</td>\n",
       "      <td>2.0</td>\n",
       "      <td>3.0</td>\n",
       "    </tr>\n",
       "    <tr>\n",
       "      <th>GLUCOSE</th>\n",
       "      <td>68783.0</td>\n",
       "      <td>1.225986</td>\n",
       "      <td>0.571961</td>\n",
       "      <td>1.0</td>\n",
       "      <td>1.0</td>\n",
       "      <td>1.0</td>\n",
       "      <td>1.0</td>\n",
       "      <td>3.0</td>\n",
       "    </tr>\n",
       "    <tr>\n",
       "      <th>SMOKE</th>\n",
       "      <td>68783.0</td>\n",
       "      <td>0.088001</td>\n",
       "      <td>0.283299</td>\n",
       "      <td>0.0</td>\n",
       "      <td>0.0</td>\n",
       "      <td>0.0</td>\n",
       "      <td>0.0</td>\n",
       "      <td>1.0</td>\n",
       "    </tr>\n",
       "    <tr>\n",
       "      <th>ALCOHOL</th>\n",
       "      <td>68783.0</td>\n",
       "      <td>0.053632</td>\n",
       "      <td>0.225293</td>\n",
       "      <td>0.0</td>\n",
       "      <td>0.0</td>\n",
       "      <td>0.0</td>\n",
       "      <td>0.0</td>\n",
       "      <td>1.0</td>\n",
       "    </tr>\n",
       "    <tr>\n",
       "      <th>PHYSICAL_ACTIVITY</th>\n",
       "      <td>68783.0</td>\n",
       "      <td>0.803367</td>\n",
       "      <td>0.397455</td>\n",
       "      <td>0.0</td>\n",
       "      <td>1.0</td>\n",
       "      <td>1.0</td>\n",
       "      <td>1.0</td>\n",
       "      <td>1.0</td>\n",
       "    </tr>\n",
       "    <tr>\n",
       "      <th>CARDIO_DISEASE</th>\n",
       "      <td>68783.0</td>\n",
       "      <td>0.494904</td>\n",
       "      <td>0.499978</td>\n",
       "      <td>0.0</td>\n",
       "      <td>0.0</td>\n",
       "      <td>0.0</td>\n",
       "      <td>1.0</td>\n",
       "      <td>1.0</td>\n",
       "    </tr>\n",
       "  </tbody>\n",
       "</table>\n",
       "</div>"
      ],
      "text/plain": [
       "                     count        mean        std   min    25%    50%    75%  \\\n",
       "AGE                68783.0   53.326781   6.768163  30.0   48.0   54.0   58.0   \n",
       "GENDER             68783.0    1.348749   0.476578   1.0    1.0    1.0    2.0   \n",
       "HEIGHT             68783.0  164.361252   8.184850  55.0  159.0  165.0  170.0   \n",
       "WEIGHT             68783.0   74.121934  14.331392  11.0   65.0   72.0   82.0   \n",
       "AP_HIGH            68783.0  126.614585  16.763763  60.0  120.0  120.0  140.0   \n",
       "AP_LOW             68783.0   81.381591   9.676679  40.0   80.0   80.0   90.0   \n",
       "CHOLESTEROL        68783.0    1.364727   0.678976   1.0    1.0    1.0    2.0   \n",
       "GLUCOSE            68783.0    1.225986   0.571961   1.0    1.0    1.0    1.0   \n",
       "SMOKE              68783.0    0.088001   0.283299   0.0    0.0    0.0    0.0   \n",
       "ALCOHOL            68783.0    0.053632   0.225293   0.0    0.0    0.0    0.0   \n",
       "PHYSICAL_ACTIVITY  68783.0    0.803367   0.397455   0.0    1.0    1.0    1.0   \n",
       "CARDIO_DISEASE     68783.0    0.494904   0.499978   0.0    0.0    0.0    1.0   \n",
       "\n",
       "                     max  \n",
       "AGE                 65.0  \n",
       "GENDER               2.0  \n",
       "HEIGHT             250.0  \n",
       "WEIGHT             200.0  \n",
       "AP_HIGH            240.0  \n",
       "AP_LOW             190.0  \n",
       "CHOLESTEROL          3.0  \n",
       "GLUCOSE              3.0  \n",
       "SMOKE                1.0  \n",
       "ALCOHOL              1.0  \n",
       "PHYSICAL_ACTIVITY    1.0  \n",
       "CARDIO_DISEASE       1.0  "
      ]
     },
     "execution_count": 15,
     "metadata": {},
     "output_type": "execute_result"
    }
   ],
   "source": [
    "data.describe().T"
   ]
  },
  {
   "cell_type": "code",
   "execution_count": 16,
   "id": "243efa23",
   "metadata": {},
   "outputs": [
    {
     "data": {
      "text/plain": [
       "AGE                  0\n",
       "GENDER               0\n",
       "HEIGHT               0\n",
       "WEIGHT               0\n",
       "AP_HIGH              0\n",
       "AP_LOW               0\n",
       "CHOLESTEROL          0\n",
       "GLUCOSE              0\n",
       "SMOKE                0\n",
       "ALCOHOL              0\n",
       "PHYSICAL_ACTIVITY    0\n",
       "CARDIO_DISEASE       0\n",
       "dtype: int64"
      ]
     },
     "execution_count": 16,
     "metadata": {},
     "output_type": "execute_result"
    }
   ],
   "source": [
    "data.isna().sum()"
   ]
  },
  {
   "cell_type": "code",
   "execution_count": 17,
   "id": "bd5068a0",
   "metadata": {},
   "outputs": [
    {
     "name": "stdout",
     "output_type": "stream",
     "text": [
      "3820\n"
     ]
    }
   ],
   "source": [
    "print(format(data.duplicated().sum())) "
   ]
  },
  {
   "cell_type": "code",
   "execution_count": 18,
   "id": "e73a5252",
   "metadata": {},
   "outputs": [
    {
     "data": {
      "text/html": [
       "<div>\n",
       "<style scoped>\n",
       "    .dataframe tbody tr th:only-of-type {\n",
       "        vertical-align: middle;\n",
       "    }\n",
       "\n",
       "    .dataframe tbody tr th {\n",
       "        vertical-align: top;\n",
       "    }\n",
       "\n",
       "    .dataframe thead th {\n",
       "        text-align: right;\n",
       "    }\n",
       "</style>\n",
       "<table border=\"1\" class=\"dataframe\">\n",
       "  <thead>\n",
       "    <tr style=\"text-align: right;\">\n",
       "      <th></th>\n",
       "      <th>AGE</th>\n",
       "      <th>GENDER</th>\n",
       "      <th>HEIGHT</th>\n",
       "      <th>WEIGHT</th>\n",
       "      <th>AP_HIGH</th>\n",
       "      <th>AP_LOW</th>\n",
       "      <th>CHOLESTEROL</th>\n",
       "      <th>GLUCOSE</th>\n",
       "      <th>SMOKE</th>\n",
       "      <th>ALCOHOL</th>\n",
       "      <th>PHYSICAL_ACTIVITY</th>\n",
       "      <th>CARDIO_DISEASE</th>\n",
       "    </tr>\n",
       "  </thead>\n",
       "  <tbody>\n",
       "    <tr>\n",
       "      <th>58718</th>\n",
       "      <td>65</td>\n",
       "      <td>2</td>\n",
       "      <td>174</td>\n",
       "      <td>70</td>\n",
       "      <td>120</td>\n",
       "      <td>80</td>\n",
       "      <td>1</td>\n",
       "      <td>1</td>\n",
       "      <td>0</td>\n",
       "      <td>0</td>\n",
       "      <td>1</td>\n",
       "      <td>1</td>\n",
       "    </tr>\n",
       "    <tr>\n",
       "      <th>66083</th>\n",
       "      <td>65</td>\n",
       "      <td>2</td>\n",
       "      <td>174</td>\n",
       "      <td>70</td>\n",
       "      <td>120</td>\n",
       "      <td>80</td>\n",
       "      <td>1</td>\n",
       "      <td>1</td>\n",
       "      <td>0</td>\n",
       "      <td>0</td>\n",
       "      <td>1</td>\n",
       "      <td>1</td>\n",
       "    </tr>\n",
       "    <tr>\n",
       "      <th>47549</th>\n",
       "      <td>65</td>\n",
       "      <td>1</td>\n",
       "      <td>168</td>\n",
       "      <td>64</td>\n",
       "      <td>120</td>\n",
       "      <td>80</td>\n",
       "      <td>1</td>\n",
       "      <td>1</td>\n",
       "      <td>0</td>\n",
       "      <td>0</td>\n",
       "      <td>0</td>\n",
       "      <td>1</td>\n",
       "    </tr>\n",
       "    <tr>\n",
       "      <th>68150</th>\n",
       "      <td>65</td>\n",
       "      <td>1</td>\n",
       "      <td>168</td>\n",
       "      <td>64</td>\n",
       "      <td>120</td>\n",
       "      <td>80</td>\n",
       "      <td>1</td>\n",
       "      <td>1</td>\n",
       "      <td>0</td>\n",
       "      <td>0</td>\n",
       "      <td>0</td>\n",
       "      <td>1</td>\n",
       "    </tr>\n",
       "    <tr>\n",
       "      <th>37842</th>\n",
       "      <td>65</td>\n",
       "      <td>1</td>\n",
       "      <td>163</td>\n",
       "      <td>63</td>\n",
       "      <td>120</td>\n",
       "      <td>80</td>\n",
       "      <td>1</td>\n",
       "      <td>1</td>\n",
       "      <td>0</td>\n",
       "      <td>0</td>\n",
       "      <td>0</td>\n",
       "      <td>1</td>\n",
       "    </tr>\n",
       "  </tbody>\n",
       "</table>\n",
       "</div>"
      ],
      "text/plain": [
       "       AGE  GENDER  HEIGHT  WEIGHT  AP_HIGH  AP_LOW  CHOLESTEROL  GLUCOSE  \\\n",
       "58718   65       2     174      70      120      80            1        1   \n",
       "66083   65       2     174      70      120      80            1        1   \n",
       "47549   65       1     168      64      120      80            1        1   \n",
       "68150   65       1     168      64      120      80            1        1   \n",
       "37842   65       1     163      63      120      80            1        1   \n",
       "\n",
       "       SMOKE  ALCOHOL  PHYSICAL_ACTIVITY  CARDIO_DISEASE  \n",
       "58718      0        0                  1               1  \n",
       "66083      0        0                  1               1  \n",
       "47549      0        0                  0               1  \n",
       "68150      0        0                  0               1  \n",
       "37842      0        0                  0               1  "
      ]
     },
     "execution_count": 18,
     "metadata": {},
     "output_type": "execute_result"
    }
   ],
   "source": [
    "duplicated = data[data.duplicated(keep=False)]\n",
    "duplicated = duplicated.sort_values(by=['AGE', 'GENDER', 'HEIGHT'], ascending= False) \n",
    "duplicated.head(5) "
   ]
  },
  {
   "cell_type": "code",
   "execution_count": 20,
   "id": "3590005a",
   "metadata": {},
   "outputs": [
    {
     "name": "stdout",
     "output_type": "stream",
     "text": [
      "0\n"
     ]
    }
   ],
   "source": [
    "data.drop_duplicates(inplace=True)\n",
    "print(format(data.duplicated().sum())) "
   ]
  },
  {
   "cell_type": "markdown",
   "id": "ef3cd06f",
   "metadata": {},
   "source": [
    "# Data vizualisation"
   ]
  },
  {
   "cell_type": "code",
   "execution_count": 25,
   "id": "963e7836",
   "metadata": {},
   "outputs": [
    {
     "name": "stderr",
     "output_type": "stream",
     "text": [
      "C:\\Users\\USER\\ANACONDA\\lib\\site-packages\\seaborn\\distributions.py:2211: UserWarning: `displot` is a figure-level function and does not accept the ax= paramter. You may wish to try histplot.\n",
      "  warnings.warn(msg, UserWarning)\n"
     ]
    },
    {
     "data": {
      "text/plain": [
       "<seaborn.axisgrid.FacetGrid at 0x27f261ccb80>"
      ]
     },
     "execution_count": 25,
     "metadata": {},
     "output_type": "execute_result"
    },
    {
     "data": {
      "image/png": "[encoded data removed]",
      "text/plain": [
       "<Figure size 360x360 with 1 Axes>"
      ]
     },
     "metadata": {
      "needs_background": "light"
     },
     "output_type": "display_data"
    }
   ],
   "source": [
    "\n",
    "sns.displot(data.AGE, bins=10, kde=True, ax=axes[0])"
   ]
  },
  {
   "cell_type": "code",
   "execution_count": 27,
   "id": "49cf1b33",
   "metadata": {},
   "outputs": [
    {
     "name": "stderr",
     "output_type": "stream",
     "text": [
      "C:\\Users\\USER\\ANACONDA\\lib\\site-packages\\seaborn\\distributions.py:2211: UserWarning: `displot` is a figure-level function and does not accept the ax= paramter. You may wish to try histplot.\n",
      "  warnings.warn(msg, UserWarning)\n"
     ]
    },
    {
     "data": {
      "text/plain": [
       "<seaborn.axisgrid.FacetGrid at 0x27f23591670>"
      ]
     },
     "execution_count": 27,
     "metadata": {},
     "output_type": "execute_result"
    },
    {
     "data": {
      "image/png": "[encoded data removed]",
      "text/plain": [
       "<Figure size 360x360 with 1 Axes>"
      ]
     },
     "metadata": {
      "needs_background": "light"
     },
     "output_type": "display_data"
    }
   ],
   "source": [
    "sns.displot(data.WEIGHT, bins=10, kde=True, ax=axes[2])"
   ]
  },
  {
   "cell_type": "code",
   "execution_count": 28,
   "id": "86da6d2c",
   "metadata": {},
   "outputs": [
    {
     "name": "stderr",
     "output_type": "stream",
     "text": [
      "C:\\Users\\USER\\ANACONDA\\lib\\site-packages\\seaborn\\distributions.py:2211: UserWarning: `displot` is a figure-level function and does not accept the ax= paramter. You may wish to try histplot.\n",
      "  warnings.warn(msg, UserWarning)\n"
     ]
    },
    {
     "data": {
      "text/plain": [
       "<seaborn.axisgrid.FacetGrid at 0x27f25e059a0>"
      ]
     },
     "execution_count": 28,
     "metadata": {},
     "output_type": "execute_result"
    },
    {
     "data": {
      "image/png": "[encoded data removed]",
      "text/plain": [
       "<Figure size 360x360 with 1 Axes>"
      ]
     },
     "metadata": {
      "needs_background": "light"
     },
     "output_type": "display_data"
    }
   ],
   "source": [
    "sns.displot(data.HEIGHT, bins=10, kde=True, ax=axes[1])"
   ]
  },
  {
   "cell_type": "markdown",
   "id": "2e79ba73",
   "metadata": {},
   "source": [
    "# correlation matrix"
   ]
  },
  {
   "cell_type": "code",
   "execution_count": 30,
   "id": "8f93bd48",
   "metadata": {},
   "outputs": [
    {
     "data": {
      "text/html": [
       "<div>\n",
       "<style scoped>\n",
       "    .dataframe tbody tr th:only-of-type {\n",
       "        vertical-align: middle;\n",
       "    }\n",
       "\n",
       "    .dataframe tbody tr th {\n",
       "        vertical-align: top;\n",
       "    }\n",
       "\n",
       "    .dataframe thead th {\n",
       "        text-align: right;\n",
       "    }\n",
       "</style>\n",
       "<table border=\"1\" class=\"dataframe\">\n",
       "  <thead>\n",
       "    <tr style=\"text-align: right;\">\n",
       "      <th></th>\n",
       "      <th>AGE</th>\n",
       "      <th>GENDER</th>\n",
       "      <th>HEIGHT</th>\n",
       "      <th>WEIGHT</th>\n",
       "      <th>AP_HIGH</th>\n",
       "      <th>AP_LOW</th>\n",
       "      <th>CHOLESTEROL</th>\n",
       "      <th>GLUCOSE</th>\n",
       "      <th>SMOKE</th>\n",
       "      <th>ALCOHOL</th>\n",
       "      <th>PHYSICAL_ACTIVITY</th>\n",
       "      <th>CARDIO_DISEASE</th>\n",
       "    </tr>\n",
       "  </thead>\n",
       "  <tbody>\n",
       "    <tr>\n",
       "      <th>AGE</th>\n",
       "      <td>1.000000</td>\n",
       "      <td>-0.024040</td>\n",
       "      <td>-0.083571</td>\n",
       "      <td>0.052809</td>\n",
       "      <td>0.210098</td>\n",
       "      <td>0.152171</td>\n",
       "      <td>0.157027</td>\n",
       "      <td>0.099334</td>\n",
       "      <td>-0.050274</td>\n",
       "      <td>-0.030868</td>\n",
       "      <td>-0.009943</td>\n",
       "      <td>0.235642</td>\n",
       "    </tr>\n",
       "    <tr>\n",
       "      <th>GENDER</th>\n",
       "      <td>-0.024040</td>\n",
       "      <td>1.000000</td>\n",
       "      <td>0.504744</td>\n",
       "      <td>0.149625</td>\n",
       "      <td>0.056289</td>\n",
       "      <td>0.064171</td>\n",
       "      <td>-0.045535</td>\n",
       "      <td>-0.027451</td>\n",
       "      <td>0.341268</td>\n",
       "      <td>0.171077</td>\n",
       "      <td>0.009255</td>\n",
       "      <td>0.000531</td>\n",
       "    </tr>\n",
       "    <tr>\n",
       "      <th>HEIGHT</th>\n",
       "      <td>-0.083571</td>\n",
       "      <td>0.504744</td>\n",
       "      <td>1.000000</td>\n",
       "      <td>0.292616</td>\n",
       "      <td>0.019577</td>\n",
       "      <td>0.035623</td>\n",
       "      <td>-0.050071</td>\n",
       "      <td>-0.018230</td>\n",
       "      <td>0.190853</td>\n",
       "      <td>0.096391</td>\n",
       "      <td>-0.007293</td>\n",
       "      <td>-0.009193</td>\n",
       "    </tr>\n",
       "    <tr>\n",
       "      <th>WEIGHT</th>\n",
       "      <td>0.052809</td>\n",
       "      <td>0.149625</td>\n",
       "      <td>0.292616</td>\n",
       "      <td>1.000000</td>\n",
       "      <td>0.263383</td>\n",
       "      <td>0.247304</td>\n",
       "      <td>0.131378</td>\n",
       "      <td>0.099914</td>\n",
       "      <td>0.060338</td>\n",
       "      <td>0.063076</td>\n",
       "      <td>-0.011642</td>\n",
       "      <td>0.172617</td>\n",
       "    </tr>\n",
       "    <tr>\n",
       "      <th>AP_HIGH</th>\n",
       "      <td>0.210098</td>\n",
       "      <td>0.056289</td>\n",
       "      <td>0.019577</td>\n",
       "      <td>0.263383</td>\n",
       "      <td>1.000000</td>\n",
       "      <td>0.696600</td>\n",
       "      <td>0.185811</td>\n",
       "      <td>0.085832</td>\n",
       "      <td>0.021156</td>\n",
       "      <td>0.027695</td>\n",
       "      <td>0.004786</td>\n",
       "      <td>0.423504</td>\n",
       "    </tr>\n",
       "    <tr>\n",
       "      <th>AP_LOW</th>\n",
       "      <td>0.152171</td>\n",
       "      <td>0.064171</td>\n",
       "      <td>0.035623</td>\n",
       "      <td>0.247304</td>\n",
       "      <td>0.696600</td>\n",
       "      <td>1.000000</td>\n",
       "      <td>0.155279</td>\n",
       "      <td>0.073338</td>\n",
       "      <td>0.021984</td>\n",
       "      <td>0.041447</td>\n",
       "      <td>0.003310</td>\n",
       "      <td>0.335708</td>\n",
       "    </tr>\n",
       "    <tr>\n",
       "      <th>CHOLESTEROL</th>\n",
       "      <td>0.157027</td>\n",
       "      <td>-0.045535</td>\n",
       "      <td>-0.050071</td>\n",
       "      <td>0.131378</td>\n",
       "      <td>0.185811</td>\n",
       "      <td>0.155279</td>\n",
       "      <td>1.000000</td>\n",
       "      <td>0.443011</td>\n",
       "      <td>0.001896</td>\n",
       "      <td>0.029592</td>\n",
       "      <td>0.018673</td>\n",
       "      <td>0.213521</td>\n",
       "    </tr>\n",
       "    <tr>\n",
       "      <th>GLUCOSE</th>\n",
       "      <td>0.099334</td>\n",
       "      <td>-0.027451</td>\n",
       "      <td>-0.018230</td>\n",
       "      <td>0.099914</td>\n",
       "      <td>0.085832</td>\n",
       "      <td>0.073338</td>\n",
       "      <td>0.443011</td>\n",
       "      <td>1.000000</td>\n",
       "      <td>-0.011714</td>\n",
       "      <td>0.006529</td>\n",
       "      <td>0.000038</td>\n",
       "      <td>0.081323</td>\n",
       "    </tr>\n",
       "    <tr>\n",
       "      <th>SMOKE</th>\n",
       "      <td>-0.050274</td>\n",
       "      <td>0.341268</td>\n",
       "      <td>0.190853</td>\n",
       "      <td>0.060338</td>\n",
       "      <td>0.021156</td>\n",
       "      <td>0.021984</td>\n",
       "      <td>0.001896</td>\n",
       "      <td>-0.011714</td>\n",
       "      <td>1.000000</td>\n",
       "      <td>0.337396</td>\n",
       "      <td>0.030220</td>\n",
       "      <td>-0.024470</td>\n",
       "    </tr>\n",
       "    <tr>\n",
       "      <th>ALCOHOL</th>\n",
       "      <td>-0.030868</td>\n",
       "      <td>0.171077</td>\n",
       "      <td>0.096391</td>\n",
       "      <td>0.063076</td>\n",
       "      <td>0.027695</td>\n",
       "      <td>0.041447</td>\n",
       "      <td>0.029592</td>\n",
       "      <td>0.006529</td>\n",
       "      <td>0.337396</td>\n",
       "      <td>1.000000</td>\n",
       "      <td>0.029109</td>\n",
       "      <td>-0.015167</td>\n",
       "    </tr>\n",
       "    <tr>\n",
       "      <th>PHYSICAL_ACTIVITY</th>\n",
       "      <td>-0.009943</td>\n",
       "      <td>0.009255</td>\n",
       "      <td>-0.007293</td>\n",
       "      <td>-0.011642</td>\n",
       "      <td>0.004786</td>\n",
       "      <td>0.003310</td>\n",
       "      <td>0.018673</td>\n",
       "      <td>0.000038</td>\n",
       "      <td>0.030220</td>\n",
       "      <td>0.029109</td>\n",
       "      <td>1.000000</td>\n",
       "      <td>-0.028717</td>\n",
       "    </tr>\n",
       "    <tr>\n",
       "      <th>CARDIO_DISEASE</th>\n",
       "      <td>0.235642</td>\n",
       "      <td>0.000531</td>\n",
       "      <td>-0.009193</td>\n",
       "      <td>0.172617</td>\n",
       "      <td>0.423504</td>\n",
       "      <td>0.335708</td>\n",
       "      <td>0.213521</td>\n",
       "      <td>0.081323</td>\n",
       "      <td>-0.024470</td>\n",
       "      <td>-0.015167</td>\n",
       "      <td>-0.028717</td>\n",
       "      <td>1.000000</td>\n",
       "    </tr>\n",
       "  </tbody>\n",
       "</table>\n",
       "</div>"
      ],
      "text/plain": [
       "                        AGE    GENDER    HEIGHT    WEIGHT   AP_HIGH    AP_LOW  \\\n",
       "AGE                1.000000 -0.024040 -0.083571  0.052809  0.210098  0.152171   \n",
       "GENDER            -0.024040  1.000000  0.504744  0.149625  0.056289  0.064171   \n",
       "HEIGHT            -0.083571  0.504744  1.000000  0.292616  0.019577  0.035623   \n",
       "WEIGHT             0.052809  0.149625  0.292616  1.000000  0.263383  0.247304   \n",
       "AP_HIGH            0.210098  0.056289  0.019577  0.263383  1.000000  0.696600   \n",
       "AP_LOW             0.152171  0.064171  0.035623  0.247304  0.696600  1.000000   \n",
       "CHOLESTEROL        0.157027 -0.045535 -0.050071  0.131378  0.185811  0.155279   \n",
       "GLUCOSE            0.099334 -0.027451 -0.018230  0.099914  0.085832  0.073338   \n",
       "SMOKE             -0.050274  0.341268  0.190853  0.060338  0.021156  0.021984   \n",
       "ALCOHOL           -0.030868  0.171077  0.096391  0.063076  0.027695  0.041447   \n",
       "PHYSICAL_ACTIVITY -0.009943  0.009255 -0.007293 -0.011642  0.004786  0.003310   \n",
       "CARDIO_DISEASE     0.235642  0.000531 -0.009193  0.172617  0.423504  0.335708   \n",
       "\n",
       "                   CHOLESTEROL   GLUCOSE     SMOKE   ALCOHOL  \\\n",
       "AGE                   0.157027  0.099334 -0.050274 -0.030868   \n",
       "GENDER               -0.045535 -0.027451  0.341268  0.171077   \n",
       "HEIGHT               -0.050071 -0.018230  0.190853  0.096391   \n",
       "WEIGHT                0.131378  0.099914  0.060338  0.063076   \n",
       "AP_HIGH               0.185811  0.085832  0.021156  0.027695   \n",
       "AP_LOW                0.155279  0.073338  0.021984  0.041447   \n",
       "CHOLESTEROL           1.000000  0.443011  0.001896  0.029592   \n",
       "GLUCOSE               0.443011  1.000000 -0.011714  0.006529   \n",
       "SMOKE                 0.001896 -0.011714  1.000000  0.337396   \n",
       "ALCOHOL               0.029592  0.006529  0.337396  1.000000   \n",
       "PHYSICAL_ACTIVITY     0.018673  0.000038  0.030220  0.029109   \n",
       "CARDIO_DISEASE        0.213521  0.081323 -0.024470 -0.015167   \n",
       "\n",
       "                   PHYSICAL_ACTIVITY  CARDIO_DISEASE  \n",
       "AGE                        -0.009943        0.235642  \n",
       "GENDER                      0.009255        0.000531  \n",
       "HEIGHT                     -0.007293       -0.009193  \n",
       "WEIGHT                     -0.011642        0.172617  \n",
       "AP_HIGH                     0.004786        0.423504  \n",
       "AP_LOW                      0.003310        0.335708  \n",
       "CHOLESTEROL                 0.018673        0.213521  \n",
       "GLUCOSE                     0.000038        0.081323  \n",
       "SMOKE                       0.030220       -0.024470  \n",
       "ALCOHOL                     0.029109       -0.015167  \n",
       "PHYSICAL_ACTIVITY           1.000000       -0.028717  \n",
       "CARDIO_DISEASE             -0.028717        1.000000  "
      ]
     },
     "execution_count": 30,
     "metadata": {},
     "output_type": "execute_result"
    }
   ],
   "source": [
    "data.corr()"
   ]
  },
  {
   "cell_type": "code",
   "execution_count": 31,
   "id": "b6285c7a",
   "metadata": {},
   "outputs": [
    {
     "data": {
      "image/png": "[encoded data removed]",
      "text/plain": [
       "<Figure size 864x720 with 2 Axes>"
      ]
     },
     "metadata": {
      "needs_background": "light"
     },
     "output_type": "display_data"
    }
   ],
   "source": [
    "plt.figure(figsize=(12, 10))\n",
    "heatmap = sns.heatmap(data.corr(), annot=True, linewidths=0, vmin=-1, cmap=\"RdBu_r\")"
   ]
  },
  {
   "cell_type": "markdown",
   "id": "0b90f0b8",
   "metadata": {},
   "source": [
    "# Train and Test"
   ]
  },
  {
   "cell_type": "code",
   "execution_count": 34,
   "id": "207c53cb",
   "metadata": {},
   "outputs": [],
   "source": [
    "from sklearn.model_selection import train_test_split\n",
    "\n",
    "y = data['CARDIO_DISEASE']\n",
    "X = data.drop(['CARDIO_DISEASE'], axis=1, inplace=False)"
   ]
  },
  {
   "cell_type": "code",
   "execution_count": 35,
   "id": "7a99526d",
   "metadata": {},
   "outputs": [],
   "source": [
    "# Split the data into training and testing sets\n",
    "X_train, X_test, y_train, y_test = train_test_split(X, y,test_size = 0.3,random_state = 40)                                                 "
   ]
  },
  {
   "cell_type": "code",
   "execution_count": 36,
   "id": "78d1e873",
   "metadata": {},
   "outputs": [
    {
     "name": "stdout",
     "output_type": "stream",
     "text": [
      "Training set has 45474 samples.\n",
      "Testing set has 19489 samples.\n"
     ]
    }
   ],
   "source": [
    "print(\"Training set has {} samples.\".format(X_train.shape[0]))\n",
    "print(\"Testing set has {} samples.\".format(X_test.shape[0]))"
   ]
  },
  {
   "cell_type": "markdown",
   "id": "60caa903",
   "metadata": {},
   "source": [
    "# Decission Tree "
   ]
  },
  {
   "cell_type": "code",
   "execution_count": 40,
   "id": "c9d7669b",
   "metadata": {},
   "outputs": [
    {
     "data": {
      "text/plain": [
       "array([1, 0, 1, ..., 1, 0, 1], dtype=int64)"
      ]
     },
     "execution_count": 40,
     "metadata": {},
     "output_type": "execute_result"
    }
   ],
   "source": [
    "from sklearn.tree import DecisionTreeClassifier\n",
    "from sklearn.metrics import classification_report, confusion_matrix, accuracy_score\n",
    "\n",
    "model = DecisionTreeClassifier(max_depth=3, min_samples_split=50, min_samples_leaf=50, random_state=40)\n",
    "model.fit(X_train, y_train)\n",
    "y_predicted = model.predict(X_test)\n",
    "y_predicted"
   ]
  },
  {
   "cell_type": "code",
   "execution_count": 43,
   "id": "fe049803",
   "metadata": {},
   "outputs": [
    {
     "name": "stdout",
     "output_type": "stream",
     "text": [
      "------------------------------------------------------\n",
      "Confussion Matrix\n",
      "------------------------------------------------------\n",
      "[[7232 2306]\n",
      " [3147 6804]]\n",
      "------------------------------------------------------\n",
      "Classification Report\n",
      "------------------------------------------------------\n",
      "              precision    recall  f1-score   support\n",
      "\n",
      "           0       0.70      0.76      0.73      9538\n",
      "           1       0.75      0.68      0.71      9951\n",
      "\n",
      "    accuracy                           0.72     19489\n",
      "   macro avg       0.72      0.72      0.72     19489\n",
      "weighted avg       0.72      0.72      0.72     19489\n",
      "\n",
      "------------------------------------------------------\n",
      "Overall accuracy score: 0.72\n"
     ]
    }
   ],
   "source": [
    "# Evaluate the model\n",
    "print(\"------------------------------------------------------\") \n",
    "print(\"Confussion Matrix\")\n",
    "print(\"------------------------------------------------------\")\n",
    "print(confusion_matrix(y_test,y_predicted))\n",
    "print(\"------------------------------------------------------\")\n",
    "print(\"Classification Report\")\n",
    "print(\"------------------------------------------------------\")\n",
    "print(classification_report(y_test,y_predicted))\n",
    "print(\"------------------------------------------------------\")\n",
    "model_accuracy = round(accuracy_score(y_test, y_predicted), 2)\n",
    "print(\"Overall accuracy score: \" + str(model_accuracy))"
   ]
  },
  {
   "cell_type": "markdown",
   "id": "5a918651",
   "metadata": {},
   "source": [
    "# Random Forest"
   ]
  },
  {
   "cell_type": "code",
   "execution_count": 46,
   "id": "37fef166",
   "metadata": {},
   "outputs": [
    {
     "data": {
      "text/plain": [
       "array([1, 1, 0, ..., 1, 1, 1], dtype=int64)"
      ]
     },
     "execution_count": 46,
     "metadata": {},
     "output_type": "execute_result"
    }
   ],
   "source": [
    "from sklearn.ensemble import RandomForestClassifier\n",
    "\n",
    "classifier = RandomForestClassifier(n_estimators=50, random_state=17)\n",
    "classifier.fit(X_train, y_train)\n",
    "y_predicted = classifier.predict(X_test)\n",
    "y_predicted"
   ]
  },
  {
   "cell_type": "code",
   "execution_count": 47,
   "id": "dab2248d",
   "metadata": {},
   "outputs": [
    {
     "name": "stdout",
     "output_type": "stream",
     "text": [
      "------------------------------------------------------\n",
      "Confussion Matrix\n",
      "------------------------------------------------------\n",
      "[[6542 2996]\n",
      " [3125 6826]]\n",
      "------------------------------------------------------\n",
      "Classification Report\n",
      "------------------------------------------------------\n",
      "              precision    recall  f1-score   support\n",
      "\n",
      "           0       0.68      0.69      0.68      9538\n",
      "           1       0.69      0.69      0.69      9951\n",
      "\n",
      "    accuracy                           0.69     19489\n",
      "   macro avg       0.69      0.69      0.69     19489\n",
      "weighted avg       0.69      0.69      0.69     19489\n",
      "\n",
      "------------------------------------------------------\n",
      "Overall accuracy score: 0.69\n",
      "------------------------------------------------------\n"
     ]
    }
   ],
   "source": [
    "print(\"------------------------------------------------------\") \n",
    "print(\"Confussion Matrix\")\n",
    "print(\"------------------------------------------------------\")\n",
    "print(confusion_matrix(y_test,y_predicted))\n",
    "print(\"------------------------------------------------------\")\n",
    "print(\"Classification Report\")\n",
    "print(\"------------------------------------------------------\")\n",
    "print(classification_report(y_test,y_predicted))\n",
    "print(\"------------------------------------------------------\")\n",
    "classifier_accuracy = round(accuracy_score(y_test, y_predicted), 2)\n",
    "print(\"Overall accuracy score: \" + str(classifier_accuracy))\n",
    "print(\"------------------------------------------------------\")"
   ]
  },
  {
   "cell_type": "markdown",
   "id": "57a14b76",
   "metadata": {},
   "source": [
    "# Support Vector Machine"
   ]
  },
  {
   "cell_type": "code",
   "execution_count": 48,
   "id": "d62ecd09",
   "metadata": {},
   "outputs": [
    {
     "data": {
      "text/plain": [
       "array([1, 0, 1, ..., 1, 0, 1], dtype=int64)"
      ]
     },
     "execution_count": 48,
     "metadata": {},
     "output_type": "execute_result"
    }
   ],
   "source": [
    "from sklearn.preprocessing import StandardScaler\n",
    "\n",
    "sc = StandardScaler()\n",
    "X_train = sc.fit_transform(X_train)\n",
    "X_test = sc.transform(X_test)\n",
    "\n",
    "from sklearn.svm import SVC\n",
    "\n",
    "SV_classifier = SVC(kernel='linear')\n",
    "SV_classifier.fit(X_train, y_train)\n",
    "y_predicted = SV_classifier.predict(X_test)\n",
    "y_predicted"
   ]
  },
  {
   "cell_type": "code",
   "execution_count": 49,
   "id": "1b9ddd99",
   "metadata": {},
   "outputs": [
    {
     "name": "stdout",
     "output_type": "stream",
     "text": [
      "------------------------------------------------------\n",
      "Confussion Matrix\n",
      "------------------------------------------------------\n",
      "[[7490 2048]\n",
      " [3389 6562]]\n",
      "------------------------------------------------------\n",
      "Classification Report\n",
      "------------------------------------------------------\n",
      "              precision    recall  f1-score   support\n",
      "\n",
      "           0       0.69      0.79      0.73      9538\n",
      "           1       0.76      0.66      0.71      9951\n",
      "\n",
      "    accuracy                           0.72     19489\n",
      "   macro avg       0.73      0.72      0.72     19489\n",
      "weighted avg       0.73      0.72      0.72     19489\n",
      "\n",
      "------------------------------------------------------\n",
      "Overall accuracy score: 0.72\n",
      "------------------------------------------------------\n"
     ]
    }
   ],
   "source": [
    "\n",
    "print(\"------------------------------------------------------\") \n",
    "print(\"Confussion Matrix\")\n",
    "print(\"------------------------------------------------------\")\n",
    "print(confusion_matrix(y_test,y_predicted))\n",
    "print(\"------------------------------------------------------\")\n",
    "print(\"Classification Report\")\n",
    "print(\"------------------------------------------------------\")\n",
    "print(classification_report(y_test,y_predicted))\n",
    "print(\"------------------------------------------------------\")\n",
    "SV_accuracy = round(accuracy_score(y_test, y_predicted), 2)\n",
    "print(\"Overall accuracy score: \" + str(SV_accuracy))\n",
    "print(\"------------------------------------------------------\")"
   ]
  },
  {
   "cell_type": "markdown",
   "id": "d93b7802",
   "metadata": {},
   "source": [
    "# K Nearest Neighbors"
   ]
  },
  {
   "cell_type": "code",
   "execution_count": 50,
   "id": "3e246aa3",
   "metadata": {},
   "outputs": [
    {
     "data": {
      "text/plain": [
       "array([1, 0, 1, ..., 1, 1, 1], dtype=int64)"
      ]
     },
     "execution_count": 50,
     "metadata": {},
     "output_type": "execute_result"
    }
   ],
   "source": [
    "from sklearn.neighbors import KNeighborsClassifier\n",
    "\n",
    "KNN_classifier = KNeighborsClassifier(n_neighbors=25)\n",
    "KNN_classifier.fit(X_train, y_train)\n",
    "y_predicted = KNN_classifier.predict(X_test)\n",
    "y_predicted"
   ]
  },
  {
   "cell_type": "code",
   "execution_count": 51,
   "id": "75752a03",
   "metadata": {},
   "outputs": [
    {
     "name": "stdout",
     "output_type": "stream",
     "text": [
      "------------------------------------------------------\n",
      "Confussion Matrix\n",
      "------------------------------------------------------\n",
      "[[7071 2467]\n",
      " [3091 6860]]\n",
      "------------------------------------------------------\n",
      "Classification Report\n",
      "------------------------------------------------------\n",
      "              precision    recall  f1-score   support\n",
      "\n",
      "           0       0.70      0.74      0.72      9538\n",
      "           1       0.74      0.69      0.71      9951\n",
      "\n",
      "    accuracy                           0.71     19489\n",
      "   macro avg       0.72      0.72      0.71     19489\n",
      "weighted avg       0.72      0.71      0.71     19489\n",
      "\n",
      "------------------------------------------------------\n",
      "Overall accuracy score: 0.71\n",
      "------------------------------------------------------\n"
     ]
    }
   ],
   "source": [
    "print(\"------------------------------------------------------\") \n",
    "print(\"Confussion Matrix\")\n",
    "print(\"------------------------------------------------------\")\n",
    "print(confusion_matrix(y_test,y_predicted))\n",
    "print(\"------------------------------------------------------\")\n",
    "print(\"Classification Report\")\n",
    "print(\"------------------------------------------------------\")\n",
    "print(classification_report(y_test,y_predicted))\n",
    "print(\"------------------------------------------------------\")\n",
    "KNN_accuracy = round(accuracy_score(y_test, y_predicted), 2)\n",
    "print(\"Overall accuracy score: \" + str(KNN_accuracy))\n",
    "print(\"------------------------------------------------------\")"
   ]
  },
  {
   "cell_type": "code",
   "execution_count": 52,
   "id": "16d395de",
   "metadata": {},
   "outputs": [
    {
     "data": {
      "text/plain": [
       "{'Decission Tree': 0.72,\n",
       " 'Random Forest': 0.69,\n",
       " 'Support Vector Machine (SVM)': 0.72,\n",
       " 'K Nearest Neighbors (KNN)': 0.71}"
      ]
     },
     "execution_count": 52,
     "metadata": {},
     "output_type": "execute_result"
    }
   ],
   "source": [
    "compare_scores = {'Decission Tree': model_accuracy, 'Random Forest': classifier_accuracy, 'Support Vector Machine (SVM)': SV_accuracy, 'K Nearest Neighbors (KNN)': KNN_accuracy}\n",
    "compare_scores"
   ]
  },
  {
   "cell_type": "code",
   "execution_count": null,
   "id": "98104c67",
   "metadata": {},
   "outputs": [],
   "source": []
  },
  {
   "cell_type": "code",
   "execution_count": null,
   "id": "20eba839",
   "metadata": {},
   "outputs": [],
   "source": []
  }
 ],
 "metadata": {
  "kernelspec": {
   "display_name": "Python 3 (ipykernel)",
   "language": "python",
   "name": "python3"
  },
  "language_info": {
   "codemirror_mode": {
    "name": "ipython",
    "version": 3
   },
   "file_extension": ".py",
   "mimetype": "text/x-python",
   "name": "python",
   "nbconvert_exporter": "python",
   "pygments_lexer": "ipython3",
   "version": "3.9.12"
  }
 },
 "nbformat": 4,
 "nbformat_minor": 5
}
